{
  "nbformat": 4,
  "nbformat_minor": 0,
  "metadata": {
    "colab": {
      "provenance": [],
      "authorship_tag": "ABX9TyO243fsgFZ5VdWet1JMuAgt",
      "include_colab_link": true
    },
    "kernelspec": {
      "name": "python3",
      "display_name": "Python 3"
    },
    "language_info": {
      "name": "python"
    }
  },
  "cells": [
    {
      "cell_type": "markdown",
      "metadata": {
        "id": "view-in-github",
        "colab_type": "text"
      },
      "source": [
        "<a href=\"https://colab.research.google.com/github/MiguelGomezB/Miguel-Gomez-Tareas/blob/main/Tarea_8_SSF.ipynb\" target=\"_parent\"><img src=\"https://colab.research.google.com/assets/colab-badge.svg\" alt=\"Open In Colab\"/></a>"
      ]
    },
    {
      "cell_type": "code",
      "execution_count": 1,
      "metadata": {
        "id": "c5fGN74hjye0"
      },
      "outputs": [],
      "source": [
        "import numpy as np\n",
        "import math as mt"
      ]
    },
    {
      "cell_type": "markdown",
      "source": [
        "Calcular la probabilidad de que al tomar un conjunto de 3 alumnos de un grupo de 40, los 3 sean mujeres, si sólo hay 9 mujeres en el grupo."
      ],
      "metadata": {
        "id": "WQ7gZAv8kZvm"
      }
    },
    {
      "cell_type": "markdown",
      "source": [
        "Para este ejercicio usamos los procesos de combinatorias, definimos el coeficiente binomial como\n",
        "$$\\begin{pmatrix}{n \\\\ k} \\end{pmatrix} = \\frac{n !}{k ! (n - k) ! }$$\n",
        "\n",
        "Donde en este caso $$n = 40 \\quad \\wedge \\quad k = 3$$\n",
        "\n",
        "Tal que\n",
        "\n",
        "$$⇒ \\begin{pmatrix}{40 \\\\3} \\end{pmatrix} = \\frac{40 !}{3 ! (40 - 3) ! }$$"
      ],
      "metadata": {
        "id": "PcJ2sxownLbo"
      }
    },
    {
      "cell_type": "code",
      "source": [
        "n_1 = 40\n",
        "k = 3\n",
        "posibles_combinaciones = mt.factorial(n_1) / (mt.factorial(k) * mt.factorial(n_1 - k))\n",
        "print(posibles_combinaciones)"
      ],
      "metadata": {
        "colab": {
          "base_uri": "https://localhost:8080/"
        },
        "id": "R57z-ojsrETR",
        "outputId": "d559fea7-19de-4e1a-93aa-3a68a42db0f0"
      },
      "execution_count": 3,
      "outputs": [
        {
          "output_type": "stream",
          "name": "stdout",
          "text": [
            "9880.0\n"
          ]
        }
      ]
    },
    {
      "cell_type": "markdown",
      "source": [
        "Ahora calculamos los casos en los cuales se cumple el condicionamiento, es decir, que sean mujeres, ahora con $n = 9$\n",
        "\n",
        "$$⇒ \\begin{pmatrix}{9 \\\\3} \\end{pmatrix} = \\frac{9 !}{3 ! (9 - 3) ! }$$"
      ],
      "metadata": {
        "id": "Z_QXMfkSrXhb"
      }
    },
    {
      "cell_type": "code",
      "source": [
        "n_2 = 9\n",
        "posibles_combinaciones_mujeres = mt.factorial(n_2) / (mt.factorial(k) * mt.factorial(n_2 - k))\n",
        "print(posibles_combinaciones_mujeres)"
      ],
      "metadata": {
        "colab": {
          "base_uri": "https://localhost:8080/"
        },
        "id": "V00-zx6xroei",
        "outputId": "321e3aa9-a7cf-4197-94fe-548239d0947b"
      },
      "execution_count": 4,
      "outputs": [
        {
          "output_type": "stream",
          "name": "stdout",
          "text": [
            "84.0\n"
          ]
        }
      ]
    },
    {
      "cell_type": "markdown",
      "source": [
        "Para calcular entonces la probabilidad basta con dividir las combinaciones condicionadas posibles, o a favor, entre los totales o posibles, tal que\n",
        "\n",
        "$$P = \\frac{\\text{C.F.}}{\\text{C.T.}}$$"
      ],
      "metadata": {
        "id": "6ifDDniprwxa"
      }
    },
    {
      "cell_type": "code",
      "source": [
        "P = posibles_combinaciones_mujeres / posibles_combinaciones\n",
        "print(\"La probabilidad de tener un conjunto de 3 mujeres es: \",P)"
      ],
      "metadata": {
        "colab": {
          "base_uri": "https://localhost:8080/"
        },
        "id": "VASrRcyLsKfM",
        "outputId": "bd0ec00d-5a20-42ec-d696-93cdb287d16c"
      },
      "execution_count": 5,
      "outputs": [
        {
          "output_type": "stream",
          "name": "stdout",
          "text": [
            "La probabilidad de tener un conjunto de 3 mujeres es:  0.008502024291497975\n"
          ]
        }
      ]
    },
    {
      "cell_type": "markdown",
      "source": [
        "B. Considere una clase de 100 alumnos. Asigne, de manera aleatoria, sus calificaciones entre 5 y 10. Suponga que su resultado sea típico.\n",
        "\n",
        "a. calcule el promedio y la varianza del experimento;\n",
        "\n",
        "b. repita el ejercicio 10 veces (10 cursos)\n",
        "\n",
        "C. De A2, calcular promedio y desviación estándar."
      ],
      "metadata": {
        "id": "wcnIEIDJmvrw"
      }
    }
  ]
}