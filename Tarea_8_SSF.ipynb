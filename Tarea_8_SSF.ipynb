{
  "nbformat": 4,
  "nbformat_minor": 0,
  "metadata": {
    "colab": {
      "provenance": [],
      "authorship_tag": "ABX9TyMfIsnJD11kCBr4jD1P0MvD",
      "include_colab_link": true
    },
    "kernelspec": {
      "name": "python3",
      "display_name": "Python 3"
    },
    "language_info": {
      "name": "python"
    }
  },
  "cells": [
    {
      "cell_type": "markdown",
      "metadata": {
        "id": "view-in-github",
        "colab_type": "text"
      },
      "source": [
        "<a href=\"https://colab.research.google.com/github/MiguelGomezB/Miguel-Gomez-Tareas/blob/main/Tarea_8_SSF.ipynb\" target=\"_parent\"><img src=\"https://colab.research.google.com/assets/colab-badge.svg\" alt=\"Open In Colab\"/></a>"
      ]
    },
    {
      "cell_type": "code",
      "execution_count": 1,
      "metadata": {
        "id": "c5fGN74hjye0"
      },
      "outputs": [],
      "source": [
        "import numpy as np\n",
        "import math as mt"
      ]
    },
    {
      "cell_type": "markdown",
      "source": [
        "Calcular la probabilidad de que al tomar un conjunto de 3 alumnos de un grupo de 40, los 3 sean mujeres, si sólo hay 9 mujeres en el grupo."
      ],
      "metadata": {
        "id": "WQ7gZAv8kZvm"
      }
    },
    {
      "cell_type": "markdown",
      "source": [
        "Para este ejercicio usamos los procesos de combinatorias, definimos el coeficiente binomial como\n",
        "$$\\begin{pmatrix}{n \\\\ k} \\end{pmatrix} = \\frac{n !}{k ! (n - k) ! }$$\n",
        "\n",
        "Donde en este caso $$n = 40 \\quad \\wedge \\quad k = 3$$\n",
        "\n",
        "Tal que\n",
        "\n",
        "$$⇒ \\begin{pmatrix}{40 \\\\3} \\end{pmatrix} = \\frac{40 !}{3 ! (40 - 3) ! }$$"
      ],
      "metadata": {
        "id": "PcJ2sxownLbo"
      }
    },
    {
      "cell_type": "code",
      "source": [
        "n_1 = 40\n",
        "k = 3\n",
        "posibles_combinaciones = mt.factorial(n_1) / (mt.factorial(k) * mt.factorial(n_1 - k))\n",
        "print(posibles_combinaciones)"
      ],
      "metadata": {
        "colab": {
          "base_uri": "https://localhost:8080/"
        },
        "id": "R57z-ojsrETR",
        "outputId": "d559fea7-19de-4e1a-93aa-3a68a42db0f0"
      },
      "execution_count": 3,
      "outputs": [
        {
          "output_type": "stream",
          "name": "stdout",
          "text": [
            "9880.0\n"
          ]
        }
      ]
    },
    {
      "cell_type": "markdown",
      "source": [
        "Ahora calculamos los casos en los cuales se cumple el condicionamiento, es decir, que sean mujeres, ahora con $n = 9$\n",
        "\n",
        "$$⇒ \\begin{pmatrix}{9 \\\\3} \\end{pmatrix} = \\frac{9 !}{3 ! (9 - 3) ! }$$"
      ],
      "metadata": {
        "id": "Z_QXMfkSrXhb"
      }
    },
    {
      "cell_type": "code",
      "source": [
        "n_2 = 9\n",
        "posibles_combinaciones_mujeres = mt.factorial(n_2) / (mt.factorial(k) * mt.factorial(n_2 - k))\n",
        "print(posibles_combinaciones_mujeres)"
      ],
      "metadata": {
        "colab": {
          "base_uri": "https://localhost:8080/"
        },
        "id": "V00-zx6xroei",
        "outputId": "321e3aa9-a7cf-4197-94fe-548239d0947b"
      },
      "execution_count": 4,
      "outputs": [
        {
          "output_type": "stream",
          "name": "stdout",
          "text": [
            "84.0\n"
          ]
        }
      ]
    },
    {
      "cell_type": "markdown",
      "source": [
        "Para calcular entonces la probabilidad basta con dividir las combinaciones condicionadas posibles, o a favor, entre los totales o posibles, tal que\n",
        "\n",
        "$$P = \\frac{\\text{C.F.}}{\\text{C.T.}}$$"
      ],
      "metadata": {
        "id": "6ifDDniprwxa"
      }
    },
    {
      "cell_type": "code",
      "source": [
        "P = posibles_combinaciones_mujeres / posibles_combinaciones\n",
        "print(\"La probabilidad de tener un conjunto de 3 mujeres es: \",P)"
      ],
      "metadata": {
        "colab": {
          "base_uri": "https://localhost:8080/"
        },
        "id": "VASrRcyLsKfM",
        "outputId": "bd0ec00d-5a20-42ec-d696-93cdb287d16c"
      },
      "execution_count": 5,
      "outputs": [
        {
          "output_type": "stream",
          "name": "stdout",
          "text": [
            "La probabilidad de tener un conjunto de 3 mujeres es:  0.008502024291497975\n"
          ]
        }
      ]
    },
    {
      "cell_type": "markdown",
      "source": [
        "2. Considere una clase de 100 alumnos. Asigne, de manera aleatoria, sus calificaciones entre 5 y 10. Suponga que su resultado sea típico.\n",
        "\n",
        "a. calcule el promedio y la varianza del experimento;\n",
        "\n",
        "Empezaremos por crear las calificaciones aleatorias de los 100 alumnos, para esto creamos un vector"
      ],
      "metadata": {
        "id": "wcnIEIDJmvrw"
      }
    },
    {
      "cell_type": "code",
      "source": [
        "calificaciones = np.random.randint(5,11,100)\n",
        "print(\"Calificaciones de 100 alumnos: \",calificaciones)"
      ],
      "metadata": {
        "colab": {
          "base_uri": "https://localhost:8080/"
        },
        "id": "gk72J4Fgtld1",
        "outputId": "a56ac847-ca5c-4114-fee7-1efa019b75ed"
      },
      "execution_count": 7,
      "outputs": [
        {
          "output_type": "stream",
          "name": "stdout",
          "text": [
            "Calificaciones de 100 alumnos:  [ 7  5  5 10  6  9  8  7  9  8 10  7  8  5  7 10 10  6 10  7  7  9  6  8\n",
            " 10  5  5 10  6 10  9  8  9  7 10 10  5  8  5  6  7  6  9  5 10  5  5 10\n",
            " 10  8  7  8  9  9  7  8  5  5 10  5  5  7  6  7 10  8  6  7  9  8  7  7\n",
            "  8  7  9  9  6  7  7  8 10 10  7 10  6  8  8  8  8  8  7  7  9  9  5  7\n",
            "  6  5  6  6]\n"
          ]
        }
      ]
    },
    {
      "cell_type": "markdown",
      "source": [
        "Ahora solo obtenemos el promedio y la varianza"
      ],
      "metadata": {
        "id": "a_kxCyzztq2r"
      }
    },
    {
      "cell_type": "code",
      "source": [
        "print(\"Promedio: \",calificaciones.mean())\n",
        "print(\"Varianza: \",calificaciones.var())"
      ],
      "metadata": {
        "colab": {
          "base_uri": "https://localhost:8080/"
        },
        "id": "8XLN9ncWt4Gn",
        "outputId": "c54e4da4-5544-475c-d90d-2bfbc38221a0"
      },
      "execution_count": 8,
      "outputs": [
        {
          "output_type": "stream",
          "name": "stdout",
          "text": [
            "Promedio:  7.53\n",
            "Varianza:  2.809099999999999\n"
          ]
        }
      ]
    },
    {
      "cell_type": "markdown",
      "source": [
        "b. repita el ejercicio 10 veces (10 cursos)\n",
        "\n",
        "En este caso definimos una función para hacer lo anterior tal que"
      ],
      "metadata": {
        "id": "zLnTvW6ftNIa"
      }
    },
    {
      "cell_type": "code",
      "source": [
        "def calificaciones_aleatorias(cal_min, cal_max, num_alumnos):\n",
        "    calificaciones = np.random.randint(cal_min,cal_max+1,num_alumnos)\n",
        "    promedio = calificaciones.mean()\n",
        "    varianza = calificaciones.var()\n",
        "    return promedio, varianza"
      ],
      "metadata": {
        "id": "gaG3h6RfuHc-"
      },
      "execution_count": 9,
      "outputs": []
    },
    {
      "cell_type": "code",
      "source": [
        "promedios = []\n",
        "for i in range(10):\n",
        "    print(\"Curso \",i+1)\n",
        "    print(\"Promedio: \",calificaciones_aleatorias(5,10,100)[0], \"Varianza: \",calificaciones_aleatorias(5,10,100)[1])\n",
        "    promedios.append(calificaciones_aleatorias(5,10,100)[0])"
      ],
      "metadata": {
        "colab": {
          "base_uri": "https://localhost:8080/"
        },
        "id": "s1FFGfJAurE5",
        "outputId": "0b86d382-0f1e-4b75-b020-55816f295674"
      },
      "execution_count": 14,
      "outputs": [
        {
          "output_type": "stream",
          "name": "stdout",
          "text": [
            "Curso  1\n",
            "Promedio:  7.42 Varianza:  2.6956\n",
            "Curso  2\n",
            "Promedio:  7.5 Varianza:  3.2419000000000007\n",
            "Curso  3\n",
            "Promedio:  7.53 Varianza:  3.0299\n",
            "Curso  4\n",
            "Promedio:  7.39 Varianza:  2.7538999999999993\n",
            "Curso  5\n",
            "Promedio:  7.38 Varianza:  2.6475999999999997\n",
            "Curso  6\n",
            "Promedio:  7.46 Varianza:  3.1275\n",
            "Curso  7\n",
            "Promedio:  7.62 Varianza:  2.5300000000000002\n",
            "Curso  8\n",
            "Promedio:  7.57 Varianza:  2.7451\n",
            "Curso  9\n",
            "Promedio:  7.53 Varianza:  2.95\n",
            "Curso  10\n",
            "Promedio:  7.43 Varianza:  2.9619\n"
          ]
        }
      ]
    },
    {
      "cell_type": "markdown",
      "source": [
        "C. De A2, calcular promedio y desviación estándar.\n",
        "\n",
        "Para esto basta con calcular el promedio y varianza de los promedios obtenidos, tal que"
      ],
      "metadata": {
        "id": "jlUQrnh-tN2_"
      }
    },
    {
      "cell_type": "code",
      "source": [
        "promedios_de_promedios = np.array(promedios)\n",
        "print(\"Promedio de los promedios: \",promedios_de_promedios.mean())\n",
        "print(\"Desviación estándar de los promedios: \",promedios_de_promedios.std())"
      ],
      "metadata": {
        "colab": {
          "base_uri": "https://localhost:8080/"
        },
        "id": "1O0QGnJXvjhM",
        "outputId": "37b9baf4-805a-4619-f89c-094a33157aed"
      },
      "execution_count": 15,
      "outputs": [
        {
          "output_type": "stream",
          "name": "stdout",
          "text": [
            "Promedio de los promedios:  7.519\n",
            "Desviación estándar de los promedios:  0.07647875521999552\n"
          ]
        }
      ]
    }
  ]
}