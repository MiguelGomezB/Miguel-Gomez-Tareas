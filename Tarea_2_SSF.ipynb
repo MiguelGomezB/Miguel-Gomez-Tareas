{
  "nbformat": 4,
  "nbformat_minor": 0,
  "metadata": {
    "colab": {
      "provenance": [],
      "authorship_tag": "ABX9TyNYtHekhsHMIrh3erptuwYM",
      "include_colab_link": true
    },
    "kernelspec": {
      "name": "python3",
      "display_name": "Python 3"
    },
    "language_info": {
      "name": "python"
    }
  },
  "cells": [
    {
      "cell_type": "markdown",
      "metadata": {
        "id": "view-in-github",
        "colab_type": "text"
      },
      "source": [
        "<a href=\"https://colab.research.google.com/github/MiguelGomezB/Miguel-Gomez-Tareas/blob/main/Tarea_2_SSF.ipynb\" target=\"_parent\"><img src=\"https://colab.research.google.com/assets/colab-badge.svg\" alt=\"Open In Colab\"/></a>"
      ]
    },
    {
      "cell_type": "markdown",
      "source": [
        "#1. Integrar númericamente\n",
        "\n",
        "$$\\int_{-1}^1 \\frac{1}{\\sqrt{2 \\pi}} e^{-x^2 / 2} dx$$\n",
        "\n",
        "a) Usando la regla del trapecio y con 6, 15 subintervalos.\n",
        "\n",
        "b) Usando Simpson con 6 y 15 particiones.\n",
        "\n",
        "c) Usando Gauss - Legendre con 6 y 15 puntos\n",
        "\n",
        "Además, estimar el error asociado en cada caso y compararlos."
      ],
      "metadata": {
        "id": "dNuKCmI87QAM"
      }
    },
    {
      "cell_type": "markdown",
      "source": [
        "Por simplicidad empezamos por definir nuestra función"
      ],
      "metadata": {
        "id": "8BQxT8WgBeB5"
      }
    },
    {
      "cell_type": "code",
      "source": [
        "import numpy as np\n",
        "import math as mt\n",
        "def f1(x):\n",
        "    return (1/(mt.sqrt(2*mt.pi)))*(mt.exp((-x**2)/2))\n",
        "    n1 = 6\n",
        "    n2 = 15\n",
        "    n3 = 20"
      ],
      "metadata": {
        "id": "YYR36HxNBj6-"
      },
      "execution_count": 60,
      "outputs": []
    },
    {
      "cell_type": "markdown",
      "source": [
        "Además, obtenemos el valor exacto de la integral en el intervalo necesario"
      ],
      "metadata": {
        "id": "SahVpNPCCQxs"
      }
    },
    {
      "cell_type": "code",
      "source": [
        "import scipy.integrate as integrate\n",
        "def valor_exacto1():\n",
        "  return integrate.quad(f1, -1, 1)[0]"
      ],
      "metadata": {
        "id": "UI04mLmpCbWk"
      },
      "execution_count": 15,
      "outputs": []
    },
    {
      "cell_type": "markdown",
      "source": [
        "a) Definimos nuestra función que define la obtención de la integral por método del trapecio con el error anidado"
      ],
      "metadata": {
        "id": "gwtRfE0_ImJE"
      }
    },
    {
      "cell_type": "code",
      "source": [
        "def trap(a, b, n, fun, valor_teorico): #a y b son los limites de integracion usados; n es el número de intervalos; fun la función; valor_teorico es valor que en teoria debemos obtener\n",
        "    intervalo = np.linspace(a,b,n+1)\n",
        "    suma = []\n",
        "    suma.append(float(fun(intervalo[0])))\n",
        "    suma.append(float(fun(intervalo[-1])))\n",
        "    h = (b-a)/n\n",
        "    for i in (intervalo[1:-1]):\n",
        "        suma.append(2*fun(float(i)))\n",
        "    resultado = (h/2)*np.sum(suma)\n",
        "    error = abs((resultado - valor_teorico)/valor_teorico)\n",
        "    return float(resultado) , float(error)"
      ],
      "metadata": {
        "id": "FPCSWaK4FHDL"
      },
      "execution_count": 43,
      "outputs": []
    },
    {
      "cell_type": "code",
      "source": [
        "print(\"Resultados:\")\n",
        "a1 = trap(-1,1,n1,f1,valor_exacto1())\n",
        "print(\"Usando el método del trapecio con\", n1, \"intervalos el resultado aproximado es\", a1[0], \"y el error relativo es\", a1[1])\n",
        "a2 = trap(-1,1,n2,f1,valor_exacto1())\n",
        "print(\"Usando el método del trapecio con\", n2, \"intervalos el resultado aproximado es\", a2[0], \"y el error relativo es\", a2[1])"
      ],
      "metadata": {
        "colab": {
          "base_uri": "https://localhost:8080/"
        },
        "id": "MIOx_oyTFNX0",
        "outputId": "5c1f36e0-f79b-4172-dd0a-dc95000faba8"
      },
      "execution_count": 50,
      "outputs": [
        {
          "output_type": "stream",
          "name": "stdout",
          "text": [
            "Resultados:\n",
            "Usando el método del trapecio con 6 intervalos el resultado aproximado es 0.6781918237837555 y el error relativo es 0.006588161096856734\n",
            "Usando el método del trapecio con 15 intervalos el resultado aproximado es 0.6819721164424766 y el error relativo es 0.0010508081680937005\n"
          ]
        }
      ]
    },
    {
      "cell_type": "markdown",
      "source": [
        "b) Definimos nuestra función que define la obtención de la integral por método Simpson con el error anidado\n"
      ],
      "metadata": {
        "id": "YgHazdR3Kdie"
      }
    },
    {
      "cell_type": "code",
      "source": [
        "def simpson(a, b, n, fun, valor_teorico): #a y b son los limites de integracion usados; n es el número de intervalos; fun la función; valor_teorico es valor que en teoria debemos obtener\n",
        "    h = (b - a) / n\n",
        "    intervalo = np.linspace(a, b, n + 1)\n",
        "    fun = np.vectorize(fun)\n",
        "    S = fun(intervalo[0]) + fun(intervalo[-1]) + 4 * np.sum(fun(intervalo[1:-1:2])) + 2 * np.sum(fun(intervalo[2:-2:2]))\n",
        "    resultado = (h / 3) * S\n",
        "    error = abs((resultado - valor_teorico)/valor_teorico)\n",
        "    return float(resultado) , float(error)"
      ],
      "metadata": {
        "id": "jmnAUYSBI-LO"
      },
      "execution_count": 42,
      "outputs": []
    },
    {
      "cell_type": "code",
      "source": [
        "print(\"Resultados:\")\n",
        "b1 = simpson(-1,1,n1,f1,valor_exacto1())\n",
        "print(\"Usando el método Simpson con\", n1, \"particiones, el resultado aproximado es\", b1[0], \"y el error relativo es\", b1[1])\n",
        "b2 = simpson(-1,1,n2,f1,valor_exacto1())\n",
        "print(\"Usando el método Simpson con\", n2, \"particiones, el resultado aproximado es\", b2[0], \"y el error relativo es\", b2[1])"
      ],
      "metadata": {
        "colab": {
          "base_uri": "https://localhost:8080/"
        },
        "id": "pBPdg5IMLMgU",
        "outputId": "c75c343b-4224-4be2-f684-84ae277e1137"
      },
      "execution_count": 47,
      "outputs": [
        {
          "output_type": "stream",
          "name": "stdout",
          "text": [
            "Resultados:\n",
            "Usando el método Simpson con 6 particiones, el resultado aproximado es 0.6827586139549787 y el error relativo es 0.00010124927758354744\n",
            "Usando el método Simpson con 15 particiones, el resultado aproximado es 0.6468590649174456 y el error relativo es 0.05248422252329835\n"
          ]
        }
      ]
    },
    {
      "cell_type": "markdown",
      "source": [
        "c) Definimos nuestra función que define la obtención de la integral por método de Gauss Legendre con el error anidado"
      ],
      "metadata": {
        "id": "ytaKUnqPMfwh"
      }
    },
    {
      "cell_type": "code",
      "source": [
        "def gl(a, b, n, fun, valor_teorico):  #a y b son los limites de integracion usados; n es el número de intervalos; fun la función; valor_teorico es valor que en teoria debemos obtener\n",
        "    xi, wi = np.polynomial.legendre.leggauss(n) #puntos y pesos de Gauss\n",
        "    entrada = (xi/2)*(b-a) + ((b+a)/2)\n",
        "    fun = np.vectorize(fun)\n",
        "    resultado = ((b-a)/2) * np.sum(wi * fun(entrada))\n",
        "    error = abs((resultado - valor_teorico)/valor_teorico)\n",
        "    return float(resultado) , float(error)"
      ],
      "metadata": {
        "id": "l9vp8WtiMcjO"
      },
      "execution_count": 46,
      "outputs": []
    },
    {
      "cell_type": "code",
      "source": [
        "print(\"Resultados:\")\n",
        "c1 = gl(-1,1,n1,f1,valor_exacto1())\n",
        "print(\"Usando el método Gauss Legendre con\", n1, \"puntos, el resultado aproximado es\", c1[0], \"y el error relativo es\", c1[1])\n",
        "c2 = gl(-1,1,n2,f1,valor_exacto1())\n",
        "print(\"Usando el método Gauss Legendre con\", n2, \"puntos, el resultado aproximado es\", c2[0], \"y el error relativo es\", c2[1])"
      ],
      "metadata": {
        "colab": {
          "base_uri": "https://localhost:8080/"
        },
        "id": "UZ6L_7mJM6tf",
        "outputId": "9f6be666-2588-4d83-b7fd-6da5d3c4f0a0"
      },
      "execution_count": 48,
      "outputs": [
        {
          "output_type": "stream",
          "name": "stdout",
          "text": [
            "Resultados:\n",
            "Usando el método Gauss Legendre con 6 puntos, el resultado aproximado es 0.6826894870533857 y el error relativo es 7.446577539426704e-09\n",
            "Usando el método Gauss Legendre con 15 puntos, el resultado aproximado es 0.6826894921370855 y el error relativo es 6.504995535523612e-16\n"
          ]
        }
      ]
    },
    {
      "cell_type": "markdown",
      "source": [
        "#2.Integrar númericamente\n",
        "\n",
        "$$\\int_{0}^{3} \\frac{e^x \\sin \\left( x  \\right)}{1 + x^2} dx$$\n",
        "\n",
        "a) Usando la regla del trapecio y con 6, 15 subintervalos.\n",
        "\n",
        "b) Usando Simpson con 6, 15 y 20 particiones.\n",
        "\n",
        "c) Usando Gauss - Legendre con 6 y 15 puntos\n",
        "\n",
        "Además, estimar el error asociado en cada caso y compararlos."
      ],
      "metadata": {
        "id": "h1460fyJPSp0"
      }
    },
    {
      "cell_type": "markdown",
      "source": [
        "Empezamos por definir nuestra función"
      ],
      "metadata": {
        "id": "2xRfCrQ9Pz_0"
      }
    },
    {
      "cell_type": "code",
      "source": [
        "def f2(x):\n",
        "    return ((mt.exp(x)*mt.sin(x))/(1 + x**2))"
      ],
      "metadata": {
        "id": "EKyHf7sCP7W6"
      },
      "execution_count": 62,
      "outputs": []
    },
    {
      "cell_type": "markdown",
      "source": [
        "Además obtenemos el valor exacto de la integral en el intervalo"
      ],
      "metadata": {
        "id": "7t_dNXyaRMYI"
      }
    },
    {
      "cell_type": "code",
      "source": [
        "import scipy.integrate as integrate\n",
        "def valor_exacto2():\n",
        "  return integrate.quad(f2, 0, 3)[0]"
      ],
      "metadata": {
        "id": "v8vfzXMTRQwA"
      },
      "execution_count": 55,
      "outputs": []
    },
    {
      "cell_type": "markdown",
      "source": [
        "a) Usando la regla del trapecio"
      ],
      "metadata": {
        "id": "vOtYhj7cQ9mi"
      }
    },
    {
      "cell_type": "code",
      "source": [
        "print(\"Resultados:\")\n",
        "a12 = trap(0,3,n1,f2,valor_exacto2())\n",
        "print(\"Usando el método del trapecio con\", n1, \"intervalos el resultado aproximado es\", a12[0], \"y el error relativo es\", a12[1])\n",
        "a22 = trap(0,3,n2,f2,valor_exacto2())\n",
        "print(\"Usando el método del trapecio con\", n2, \"intervalos el resultado aproximado es\", a22[0], \"y el error relativo es\", a22[1])"
      ],
      "metadata": {
        "colab": {
          "base_uri": "https://localhost:8080/"
        },
        "id": "ZlstUtHhRDc7",
        "outputId": "ac9383c0-8597-4844-8d84-574559ee1bce"
      },
      "execution_count": 56,
      "outputs": [
        {
          "output_type": "stream",
          "name": "stdout",
          "text": [
            "Resultados:\n",
            "Usando el método del trapecio con 6 intervalos el resultado aproximado es 2.8213441827201753 y el error relativo es 0.020923206018600433\n",
            "Usando el método del trapecio con 15 intervalos el resultado aproximado es 2.872045104150456 y el error relativo es 0.00332872183269646\n"
          ]
        }
      ]
    },
    {
      "cell_type": "markdown",
      "source": [
        "b) Usando Simpson"
      ],
      "metadata": {
        "id": "6aOHEJBxRl0p"
      }
    },
    {
      "cell_type": "code",
      "source": [
        "n3 = 20\n",
        "print(\"Resultados:\")\n",
        "b12 = simpson(0,3,n1,f2,valor_exacto2())\n",
        "print(\"Usando el método Simpson con\", n1, \"particiones, el resultado aproximado es\", b12[0], \"y el error relativo es\", b12[1])\n",
        "b22 = simpson(0,3,n2,f2,valor_exacto2())\n",
        "print(\"Usando el método Simpson con\", n2, \"particiones, el resultado aproximado es\", b22[0], \"y el error relativo es\", b22[1])\n",
        "b32 = simpson(0,3,n3,f2,valor_exacto2())\n",
        "print(\"Usando el método Simpson con\", n3, \"particiones, el resultado aproximado es\", b32[0], \"y el error relativo es\", b32[1])"
      ],
      "metadata": {
        "colab": {
          "base_uri": "https://localhost:8080/"
        },
        "id": "enF2M8LPRrhr",
        "outputId": "6744b228-c15f-42b4-cf3f-0a97366d4eb7"
      },
      "execution_count": 63,
      "outputs": [
        {
          "output_type": "stream",
          "name": "stdout",
          "text": [
            "Resultados:\n",
            "Usando el método Simpson con 6 particiones, el resultado aproximado es 2.8854018637270924 y el error relativo es 0.0013064068497122717\n",
            "Usando el método Simpson con 15 particiones, el resultado aproximado es 2.767194601130425 y el error relativo es 0.03971446128728995\n",
            "Usando el método Simpson con 20 particiones, el resultado aproximado es 2.881648560171607 y el error relativo es 3.916910891498455e-06\n"
          ]
        }
      ]
    },
    {
      "cell_type": "markdown",
      "source": [
        "c) Usando Gauss Legendre"
      ],
      "metadata": {
        "id": "h-Me1R1YSZzc"
      }
    },
    {
      "cell_type": "code",
      "source": [
        "print(\"Resultados:\")\n",
        "c12 = gl(0,3,n1,f2,valor_exacto2())\n",
        "print(\"Usando el método Gauss Legendre con\", n1, \"puntos, el resultado aproximado es\", c12[0], \"y el error relativo es\", c12[1])\n",
        "c22 = gl(0,3,n2,f2,valor_exacto2())\n",
        "print(\"Usando el método Gauss Legendre con\", n2, \"puntos, el resultado aproximado es\", c22[0], \"y el error relativo es\", c22[1])"
      ],
      "metadata": {
        "colab": {
          "base_uri": "https://localhost:8080/"
        },
        "id": "qHyWslBeSgQ_",
        "outputId": "7b8d438d-250d-4a8a-d149-ec226e92e654"
      },
      "execution_count": 64,
      "outputs": [
        {
          "output_type": "stream",
          "name": "stdout",
          "text": [
            "Resultados:\n",
            "Usando el método Gauss Legendre con 6 puntos, el resultado aproximado es 2.8816429377926123 y el error relativo es 1.9658051616445924e-06\n",
            "Usando el método Gauss Legendre con 15 puntos, el resultado aproximado es 2.881637273033885 y el error relativo es 7.392349973146618e-12\n"
          ]
        }
      ]
    }
  ]
}